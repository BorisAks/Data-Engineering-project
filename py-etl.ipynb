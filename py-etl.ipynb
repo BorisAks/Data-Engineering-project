{
 "cells": [
  {
   "cell_type": "code",
   "execution_count": 1,
   "id": "590dd186-348c-4a3d-8817-55aab72b01d6",
   "metadata": {},
   "outputs": [],
   "source": [
    "#pip install mysql-connector-python"
   ]
  },
  {
   "cell_type": "code",
   "execution_count": 2,
   "id": "71013b4f-d1b7-4936-b520-dab14408258b",
   "metadata": {},
   "outputs": [],
   "source": [
    "import pyspark\n",
    "import mysql.connector\n",
    "from pyspark.sql import SparkSession\n",
    "import os\n",
    "os.environ['HADOOP_HOME'] = 'C:/hadoop/hadoop-3.3.6'\n",
    "os.environ[\"PATH\"] += os.pathsep + os.path.join(os.environ[\"HADOOP_HOME\"], \"bin\")"
   ]
  },
  {
   "cell_type": "code",
   "execution_count": 3,
   "id": "c63069c9-7fff-4b3b-ace0-4fa399f4001b",
   "metadata": {},
   "outputs": [
    {
     "name": "stdout",
     "output_type": "stream",
     "text": [
      "Database 'EV_Population_Data' created (if it did not exist).\n",
      "Table 'model_year' created.\n",
      "Table 'model_year' created.\n",
      "Table 'agg_cities' created\n"
     ]
    }
   ],
   "source": [
    "# Connect to MySQL\n",
    "conn = mysql.connector.connect(\n",
    "    host=\"localhost\",\n",
    "    user=\"root\",\n",
    "    password=\"mysql\"  # replace with your MySQL password\n",
    ")\n",
    "cursor = conn.cursor()\n",
    "cursor.execute(\"CREATE DATABASE IF NOT EXISTS EV_Population_Data\")\n",
    "print(\"Database 'EV_Population_Data' created (if it did not exist).\")\n",
    "\n",
    "cursor.execute(\"USE EV_Population_Data\")\n",
    "\n",
    "# Create the table 'model_year' if it doesn't exist\n",
    "create_table_query = \"\"\"\n",
    "CREATE TABLE IF NOT EXISTS model_year (\n",
    "    model_year VARCHAR(4) UNIQUE NOT NULL\n",
    ")\n",
    "\"\"\"\n",
    "cursor.execute(create_table_query)\n",
    "print(\"Table 'model_year' created.\")\n",
    "\n",
    "# Create the table 'make' if it doesn't exist\n",
    "create_table = \"\"\"\n",
    "CREATE TABLE IF NOT EXISTS make (\n",
    "    make VARCHAR(20) UNIQUE NOT NULL\n",
    ")\n",
    "\"\"\"\n",
    "cursor.execute(create_table)\n",
    "print(\"Table 'model_year' created.\")\n",
    "\n",
    "# Create the table 'agg_cities' if it doesn't exis\n",
    "query = \"\"\"\n",
    "CREATE TABLE IF NOT EXISTS agg_cities (\n",
    "       city VARCHAR(20) UNIQUE NOT NULL,\n",
    "       electric_cars INT NOT NULL\n",
    ")\n",
    "\"\"\"\n",
    "cursor.execute(query)\n",
    "print(\"Table 'agg_cities' created\")\n"
   ]
  },
  {
   "cell_type": "code",
   "execution_count": 4,
   "id": "693af2ce-b523-446e-a1d8-46fd0d321d9d",
   "metadata": {},
   "outputs": [],
   "source": [
    "spark = SparkSession.builder.appName(\"model_year\").master(\"local[*]\").getOrCreate()"
   ]
  },
  {
   "cell_type": "code",
   "execution_count": 5,
   "id": "e8fced6c-2be9-4375-8c61-056a00e9cf10",
   "metadata": {},
   "outputs": [
    {
     "name": "stdout",
     "output_type": "stream",
     "text": [
      "+----------+\n",
      "|model_year|\n",
      "+----------+\n",
      "|      1997|\n",
      "|      1998|\n",
      "|      1999|\n",
      "|      2000|\n",
      "|      2002|\n",
      "+----------+\n",
      "only showing top 5 rows\n",
      "\n"
     ]
    }
   ],
   "source": [
    "# Read the Parquet file\n",
    "path = \"C:/Users/boris/Documents/DataEngenier/Spark/final_project/output/raw-data\"\n",
    "\n",
    "df = spark.read.parquet(path)\n",
    "\n",
    "# Optionally, rename the column to 'model_year' (as your MySQL table might use lowercase)\n",
    "model_year = df.withColumnRenamed(\"Model Year\", \"model_year\")\n",
    "\n",
    "model_year.createOrReplaceTempView(\"electric_cars\") \n",
    "\n",
    "model_year_unique = spark.sql(\"SELECT DISTINCT CAST(model_year AS STRING) FROM electric_cars WHERE model_year > 1990 ORDER BY model_year\")\n",
    "\n",
    "model_year_unique.show(5)\n"
   ]
  },
  {
   "cell_type": "code",
   "execution_count": 6,
   "id": "9ffa897c-5982-4cde-828e-20968d4aad78",
   "metadata": {},
   "outputs": [
    {
     "name": "stdout",
     "output_type": "stream",
     "text": [
      "+--------------------+\n",
      "|                Make|\n",
      "+--------------------+\n",
      "|WHEEGO ELECTRIC CARS|\n",
      "|             PORSCHE|\n",
      "|             HYUNDAI|\n",
      "|                FIAT|\n",
      "|               LUCID|\n",
      "+--------------------+\n",
      "only showing top 5 rows\n",
      "\n"
     ]
    }
   ],
   "source": [
    "make_unique = spark.sql(\"SELECT DISTINCT Make FROM electric_cars\")\n",
    "make_unique.show(5)"
   ]
  },
  {
   "cell_type": "code",
   "execution_count": 7,
   "id": "c09ffffb-aa3f-4503-b03e-cccde168a7d1",
   "metadata": {},
   "outputs": [
    {
     "name": "stdout",
     "output_type": "stream",
     "text": [
      "+---------+-------------+\n",
      "|     City|electric_cars|\n",
      "+---------+-------------+\n",
      "|   Bingen|            3|\n",
      "|Wahkiacus|            2|\n",
      "|  Hanover|            1|\n",
      "| Tumwater|          539|\n",
      "|  Edmonds|         1590|\n",
      "+---------+-------------+\n",
      "only showing top 5 rows\n",
      "\n"
     ]
    }
   ],
   "source": [
    "agg_cities = spark.sql(\"SELECT City, COUNT(*) AS electric_cars FROM electric_cars GROUP BY City\")\n",
    "agg_cities.show(5)                      "
   ]
  },
  {
   "cell_type": "code",
   "execution_count": 10,
   "id": "e63e8384-d294-4f94-956d-1e9e44022919",
   "metadata": {},
   "outputs": [
    {
     "name": "stdout",
     "output_type": "stream",
     "text": [
      "Inserted unique model year values into 'model_year' table.\n",
      "Inserted unique make values into 'make' table.\n",
      "Inserted unique city and electric car values into 'agg_cities' table.\n"
     ]
    }
   ],
   "source": [
    "\n",
    "cursor = conn.cursor()\n",
    "\n",
    "model_year_list = [row[0] for row in model_year_unique.collect()]  # Convert PySpark DataFrame to Python list\n",
    "\n",
    "# Insert each unique model year into the table\n",
    "insert_query = \"INSERT IGNORE INTO model_year (model_year) VALUES (%s)\"\n",
    "for model_year in model_year_list:\n",
    "    cursor.execute(insert_query, (model_year,))\n",
    "\n",
    "# Commit the changes to the database\n",
    "conn.commit()\n",
    "print(\"Inserted unique model year values into 'model_year' table.\")\n",
    "\n",
    "make_list = [row[0] for row in make_unique.collect()]  # Convert PySpark DataFrame to Python list\n",
    "\n",
    "# Insert each make value into the table\n",
    "insert_query = \"INSERT IGNORE INTO make (make) VALUES (%s)\"\n",
    "for make in make_list:\n",
    "    cursor.execute(insert_query, (make,))\n",
    "\n",
    "# Commit the changes to the database\n",
    "conn.commit()\n",
    "print(\"Inserted unique make values into 'make' table.\")\n",
    "\n",
    "agg_cities_list = [(str(row[0]), int(row[1])) for row in agg_cities.collect()]\n",
    "\n",
    "# Insert each city and electric car count into the table\n",
    "insert_query = \"INSERT IGNORE INTO agg_cities (city, electric_cars) VALUES (%s, %s)\"\n",
    "for city, electric_cars in agg_cities_list:\n",
    "    cursor.execute(insert_query, (city, electric_cars))\n",
    "\n",
    "# Commit the changes to the database\n",
    "conn.commit()\n",
    "print(\"Inserted unique city and electric car values into 'agg_cities' table.\")\n",
    "\n",
    "\n",
    "# Clean up and close connections\n",
    "cursor.close()\n",
    "conn.close()\n",
    "spark.stop()"
   ]
  },
  {
   "cell_type": "code",
   "execution_count": null,
   "id": "deda9e95-702c-4b81-8f98-2c3d309955b4",
   "metadata": {},
   "outputs": [],
   "source": []
  }
 ],
 "metadata": {
  "kernelspec": {
   "display_name": "Python 3 (ipykernel)",
   "language": "python",
   "name": "python3"
  },
  "language_info": {
   "codemirror_mode": {
    "name": "ipython",
    "version": 3
   },
   "file_extension": ".py",
   "mimetype": "text/x-python",
   "name": "python",
   "nbconvert_exporter": "python",
   "pygments_lexer": "ipython3",
   "version": "3.12.7"
  }
 },
 "nbformat": 4,
 "nbformat_minor": 5
}
