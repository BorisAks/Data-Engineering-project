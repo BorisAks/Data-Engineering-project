{
 "cells": [
  {
   "cell_type": "code",
   "execution_count": null,
   "id": "f30bf9a8-530f-418d-9a8f-995220cb1b31",
   "metadata": {},
   "outputs": [],
   "source": [
    "#!pip install kafka-python\n",
    "#!pip install pyspark"
   ]
  },
  {
   "cell_type": "code",
   "execution_count": 1,
   "id": "7957121e-f3be-4c6e-ba9d-594ed8f99914",
   "metadata": {},
   "outputs": [],
   "source": [
    "from kafka import KafkaProducer\n",
    "import pandas as pd\n",
    "from pyspark.sql import SparkSession\n",
    "from pyspark.sql.types import StructType, StructField, StringType, IntegerType, FloatType\n",
    "from pyspark.sql.functions import expr\n",
    "from pyspark.sql.functions import from_json\n",
    "import json\n",
    "import os\n",
    "import time\n",
    "os.environ['HADOOP_HOME'] = 'C:/hadoop/hadoop-3.3.6'\n",
    "os.environ[\"PATH\"] += os.pathsep + os.path.join(os.environ[\"HADOOP_HOME\"], \"bin\")\n"
   ]
  },
  {
   "cell_type": "code",
   "execution_count": 2,
   "id": "c2b7835d-75c2-45ce-b7bb-e60636dd9850",
   "metadata": {},
   "outputs": [],
   "source": [
    "# Path to CSV file\n",
    "csv_path = r\"C:\\Users\\boris\\Documents\\DataEngenier\\Spark\\final_project\\input\\Electric_Vehicle_Population_Data.csv\"\n",
    "# Read CSV file\n",
    "df = pd.read_csv(csv_path)"
   ]
  },
  {
   "cell_type": "code",
   "execution_count": 3,
   "id": "d34ceafa-ec8e-435b-a481-141a244efddc",
   "metadata": {},
   "outputs": [
    {
     "name": "stdout",
     "output_type": "stream",
     "text": [
      "<class 'pandas.core.frame.DataFrame'>\n",
      "RangeIndex: 150482 entries, 0 to 150481\n",
      "Data columns (total 17 columns):\n",
      " #   Column                                             Non-Null Count   Dtype  \n",
      "---  ------                                             --------------   -----  \n",
      " 0   VIN (1-10)                                         150482 non-null  object \n",
      " 1   County                                             150479 non-null  object \n",
      " 2   City                                               150479 non-null  object \n",
      " 3   State                                              150482 non-null  object \n",
      " 4   Postal Code                                        150479 non-null  float64\n",
      " 5   Model Year                                         150482 non-null  int64  \n",
      " 6   Make                                               150482 non-null  object \n",
      " 7   Model                                              150482 non-null  object \n",
      " 8   Electric Vehicle Type                              150482 non-null  object \n",
      " 9   Clean Alternative Fuel Vehicle (CAFV) Eligibility  150482 non-null  object \n",
      " 10  Electric Range                                     150482 non-null  int64  \n",
      " 11  Base MSRP                                          150482 non-null  int64  \n",
      " 12  Legislative District                               150141 non-null  float64\n",
      " 13  DOL Vehicle ID                                     150482 non-null  int64  \n",
      " 14  Vehicle Location                                   150475 non-null  object \n",
      " 15  Electric Utility                                   150479 non-null  object \n",
      " 16  2020 Census Tract                                  150479 non-null  float64\n",
      "dtypes: float64(3), int64(4), object(10)\n",
      "memory usage: 19.5+ MB\n"
     ]
    }
   ],
   "source": [
    "df.info()"
   ]
  },
  {
   "cell_type": "code",
   "execution_count": null,
   "id": "dbce9902-8a9a-46cc-9913-4b1a80b1fbb5",
   "metadata": {},
   "outputs": [],
   "source": [
    "print(df.isna().sum())\n",
    "print('Total numbers of rows', len(df))"
   ]
  },
  {
   "cell_type": "code",
   "execution_count": 4,
   "id": "fd662d16-ca82-4e45-b3f7-6b6c49e8fbb2",
   "metadata": {},
   "outputs": [],
   "source": [
    "KAFKA_TOPIC = \"Electric_Vehicle\"\n",
    "# Create Kafka Producer\n",
    "producer = KafkaProducer(\n",
    "    bootstrap_servers='localhost:9092',\n",
    "    value_serializer=lambda v: json.dumps(v).encode('utf-8')\n",
    ")\n",
    "\n",
    "# Send each row as a Kafka message\n",
    "for _, row in df.iterrows():\n",
    "    message = row.to_dict()  # Convert row to dictionary\n",
    "    producer.send(KAFKA_TOPIC, value=message)  # Send message\n",
    "    #print(f\"Sent: {message}\")\n",
    "    \n",
    "# Ensure all messages are sent before the script exits\n",
    "producer.flush()\n",
    "# Close the producer connection\n",
    "producer.close()\n"
   ]
  },
  {
   "cell_type": "code",
   "execution_count": 4,
   "id": "faf2816f-389d-426c-9e21-f83e89b14116",
   "metadata": {},
   "outputs": [],
   "source": [
    "# Define Spark Session\n",
    "spark = SparkSession.builder \\\n",
    "    .appName(\"KafkaToParquet\").master(\"local[*]\") \\\n",
    "    .config(\"spark.jars.packages\", \"org.apache.spark:spark-sql-kafka-0-10_2.12:3.5.4\") \\\n",
    "    .getOrCreate()"
   ]
  },
  {
   "cell_type": "code",
   "execution_count": 8,
   "id": "79bdb8f5-ec79-45b2-9095-b63258c82012",
   "metadata": {},
   "outputs": [
    {
     "name": "stdout",
     "output_type": "stream",
     "text": [
      "root\n",
      " |-- key: binary (nullable = true)\n",
      " |-- value: binary (nullable = true)\n",
      " |-- topic: string (nullable = true)\n",
      " |-- partition: integer (nullable = true)\n",
      " |-- offset: long (nullable = true)\n",
      " |-- timestamp: timestamp (nullable = true)\n",
      " |-- timestampType: integer (nullable = true)\n",
      "\n"
     ]
    }
   ],
   "source": [
    "\"\"\"\n",
    "KAFKA_TOPIC = \"Electric_Vehicle\"\n",
    "# Step 2: Define Schema\n",
    "schema = StructType([\n",
    "    StructField('VIN (1-10)', StringType(), True),\n",
    "    StructField('County', StringType(), True),\n",
    "    StructField('City', StringType(), True),\n",
    "    StructField('State', StringType(), True),\n",
    "    StructField('Postal Code', FloatType(), True),\n",
    "    StructField('Model Year', IntegerType(), True),\n",
    "    StructField('Make', StringType(), True),\n",
    "    StructField('Model', StringType(), True),\n",
    "    StructField('Electric Vehicle Type', StringType(), True),\n",
    "    StructField('Clean Alternative Fuel Vehicle (CAFV) Eligibility', StringType(), True),\n",
    "    StructField('Electric Range', IntegerType(), True),\n",
    "    StructField('Base MSRP', IntegerType(), True),\n",
    "    StructField('Legislative District', FloatType(), True),\n",
    "    StructField('DOL Vehicle ID', IntegerType(), True),\n",
    "    StructField('Vehicle Location', StringType(), True),\n",
    "    StructField('Electric Utility', StringType(), True),\n",
    "    StructField('2020 Census Tract', FloatType(), True)\n",
    "])\n",
    "\n",
    "# Step 3: Read data from Kafka\n",
    "kafka_df = spark.readStream \\\n",
    "    .format(\"kafka\") \\\n",
    "    .option(\"kafka.bootstrap.servers\", \"localhost:9092\") \\\n",
    "    .option(\"subscribe\", KAFKA_TOPIC) \\\n",
    "    .option(\"startingOffsets\", \"earliest\") \\\n",
    "    .load()\n",
    "\n",
    "kafka_df.printSchema()\n",
    "\n",
    "# Step 4: Convert the Kafka value (in binary format) into a string and parse the JSON if needed\n",
    "parsed_df = kafka_df.selectExpr(\"CAST(value AS STRING)\")\n",
    "query_console = parsed_df.writeStream \\\n",
    "    .outputMode(\"append\") \\\n",
    "    .format(\"console\") \\\n",
    "    .start()\n",
    "\n",
    "# Step 5: Parse the JSON data into the proper schema\n",
    "final_df = parsed_df.select(from_json(\"value\", schema).alias(\"data\")).select(\"data.*\")\n",
    "\n",
    "# Step 6: Write to Parquet format\n",
    "output_path = \"C:/Users/boris/Documents/DataEngenier/Spark/final_project/output/raw-data\"\n",
    "\n",
    "query_parquet = final_df.writeStream \\\n",
    "    .outputMode(\"append\") \\\n",
    "    .format(\"parquet\") \\\n",
    "    .option(\"checkpointLocation\", \"C:/Users/boris/Documents/DataEngenier/Spark/final_project/checkpoints\") \\\n",
    "    .option(\"path\", output_path) \\\n",
    "    .start() \n",
    "\n",
    "# Stop both queries after they done processing\n",
    "query_console.awaitTermination()\n",
    "query_parquet.awaitTermination()\n",
    "\"\"\""
   ]
  },
  {
   "cell_type": "code",
   "execution_count": 5,
   "id": "d6cba606-0a13-4b05-8498-eeb73b3ee87f",
   "metadata": {},
   "outputs": [
    {
     "name": "stdout",
     "output_type": "stream",
     "text": [
      "+----------+--------+--------+-----+-----------+----------+-------+--------------+---------------------+-------------------------------------------------+--------------+---------+--------------------+--------------+--------------------+--------------------+-----------------+\n",
      "|VIN (1-10)|  County|    City|State|Postal Code|Model Year|   Make|         Model|Electric Vehicle Type|Clean Alternative Fuel Vehicle (CAFV) Eligibility|Electric Range|Base MSRP|Legislative District|DOL Vehicle ID|    Vehicle Location|    Electric Utility|2020 Census Tract|\n",
      "+----------+--------+--------+-----+-----------+----------+-------+--------------+---------------------+-------------------------------------------------+--------------+---------+--------------------+--------------+--------------------+--------------------+-----------------+\n",
      "|KM8K33AGXL|    King| Seattle|   WA|    98103.0|      2020|HYUNDAI|          KONA| Battery Electric ...|                             Clean Alternative...|           258|        0|                43.0|     249675142|POINT (-122.34301...|CITY OF SEATTLE -...|     5.3033005E10|\n",
      "|1C4RJYB61N|    King| Bothell|   WA|    98011.0|      2022|   JEEP|GRAND CHEROKEE| Plug-in Hybrid El...|                             Not eligible due ...|            25|        0|                 1.0|     233928502|POINT (-122.20578...|PUGET SOUND ENERG...|     5.3033021E10|\n",
      "|1C4RJYD61P|  Yakima|  Yakima|   WA|    98908.0|      2023|   JEEP|GRAND CHEROKEE| Plug-in Hybrid El...|                             Not eligible due ...|            25|        0|                14.0|     229675939|POINT (-120.60272...|          PACIFICORP|     5.3077004E10|\n",
      "|5YJ3E1EA7J|    King|Kirkland|   WA|    98034.0|      2018|  TESLA|       MODEL 3| Battery Electric ...|                             Clean Alternative...|           215|        0|                45.0|     104714466|POINT (-122.20928...|PUGET SOUND ENERG...|     5.3033021E10|\n",
      "|WBY7Z8C5XJ|Thurston| Olympia|   WA|    98501.0|      2018|    BMW|            I3| Plug-in Hybrid El...|                             Clean Alternative...|            97|        0|                22.0|     185498386|POINT (-122.89692...|PUGET SOUND ENERG...|      5.306701E10|\n",
      "+----------+--------+--------+-----+-----------+----------+-------+--------------+---------------------+-------------------------------------------------+--------------+---------+--------------------+--------------+--------------------+--------------------+-----------------+\n",
      "only showing top 5 rows\n",
      "\n",
      "root\n",
      " |-- VIN (1-10): string (nullable = true)\n",
      " |-- County: string (nullable = true)\n",
      " |-- City: string (nullable = true)\n",
      " |-- State: string (nullable = true)\n",
      " |-- Postal Code: float (nullable = true)\n",
      " |-- Model Year: integer (nullable = true)\n",
      " |-- Make: string (nullable = true)\n",
      " |-- Model: string (nullable = true)\n",
      " |-- Electric Vehicle Type: string (nullable = true)\n",
      " |-- Clean Alternative Fuel Vehicle (CAFV) Eligibility: string (nullable = true)\n",
      " |-- Electric Range: integer (nullable = true)\n",
      " |-- Base MSRP: integer (nullable = true)\n",
      " |-- Legislative District: float (nullable = true)\n",
      " |-- DOL Vehicle ID: integer (nullable = true)\n",
      " |-- Vehicle Location: string (nullable = true)\n",
      " |-- Electric Utility: string (nullable = true)\n",
      " |-- 2020 Census Tract: float (nullable = true)\n",
      "\n",
      "Total numbers of rows 150482\n"
     ]
    }
   ],
   "source": [
    "# Step 6: Write to Parquet format\n",
    "output_path = \"C:/Users/boris/Documents/DataEngenier/Spark/final_project/output/raw-data\"\n",
    "df_raw_data = spark.read.parquet(output_path)\n",
    "df_raw_data.show(5)\n",
    "df_raw_data.printSchema()\n",
    "print('Total numbers of rows', df_raw_data.count())"
   ]
  },
  {
   "cell_type": "code",
   "execution_count": null,
   "id": "25baba0e-9fdc-4ea1-ab18-3b80d70a2feb",
   "metadata": {},
   "outputs": [],
   "source": [
    "#docker run -d --name kafka -p 9092:9092 apache/kafka:latest\n",
    "#docker exec -it kafka /opt/kafka/bin/kafka-console-consumer.sh --bootstrap-server localhost:9092 --topic Electric_Vehicle --from-beginning\n"
   ]
  },
  {
   "cell_type": "code",
   "execution_count": null,
   "id": "322a9359-64a5-4c58-bc36-eb70cd6827f4",
   "metadata": {},
   "outputs": [],
   "source": [
    "#spark.version\n"
   ]
  },
  {
   "cell_type": "code",
   "execution_count": 6,
   "id": "b67f2ed3-4c0d-44d7-a1f8-50a1c78ad8f0",
   "metadata": {},
   "outputs": [
    {
     "name": "stdout",
     "output_type": "stream",
     "text": [
      "[]\n"
     ]
    }
   ],
   "source": [
    "#print(spark.streams.active) "
   ]
  },
  {
   "cell_type": "code",
   "execution_count": 8,
   "id": "03664fd9-d197-4e49-8d3a-25499bcf3aa9",
   "metadata": {},
   "outputs": [],
   "source": [
    "#for query in spark.streams.active:\n",
    "    query.stop()"
   ]
  },
  {
   "cell_type": "code",
   "execution_count": null,
   "id": "8eab9749-f29f-4399-9601-8dd1fcdde2cf",
   "metadata": {},
   "outputs": [],
   "source": []
  }
 ],
 "metadata": {
  "kernelspec": {
   "display_name": "Python 3 (ipykernel)",
   "language": "python",
   "name": "python3"
  },
  "language_info": {
   "codemirror_mode": {
    "name": "ipython",
    "version": 3
   },
   "file_extension": ".py",
   "mimetype": "text/x-python",
   "name": "python",
   "nbconvert_exporter": "python",
   "pygments_lexer": "ipython3",
   "version": "3.12.7"
  }
 },
 "nbformat": 4,
 "nbformat_minor": 5
}
